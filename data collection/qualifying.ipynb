{
 "cells": [
  {
   "cell_type": "code",
   "execution_count": 4,
   "metadata": {},
   "outputs": [
    {
     "name": "stdout",
     "output_type": "stream",
     "text": [
      "Collecting selenium\n",
      "  Downloading selenium-4.6.0-py3-none-any.whl (5.2 MB)\n",
      "     ---------------------------------------- 5.2/5.2 MB 8.5 MB/s eta 0:00:00\n",
      "Requirement already satisfied: urllib3[socks]~=1.26 in c:\\programdata\\anaconda3\\lib\\site-packages (from selenium) (1.26.11)\n",
      "Requirement already satisfied: certifi>=2021.10.8 in c:\\programdata\\anaconda3\\lib\\site-packages (from selenium) (2022.9.14)\n",
      "Collecting trio~=0.17\n",
      "  Downloading trio-0.22.0-py3-none-any.whl (384 kB)\n",
      "     -------------------------------------- 384.9/384.9 kB 8.0 MB/s eta 0:00:00\n",
      "Collecting trio-websocket~=0.9\n",
      "  Downloading trio_websocket-0.9.2-py3-none-any.whl (16 kB)\n",
      "Requirement already satisfied: sniffio in c:\\programdata\\anaconda3\\lib\\site-packages (from trio~=0.17->selenium) (1.2.0)\n",
      "Collecting exceptiongroup>=1.0.0rc9\n",
      "  Downloading exceptiongroup-1.0.4-py3-none-any.whl (14 kB)\n",
      "Requirement already satisfied: idna in c:\\programdata\\anaconda3\\lib\\site-packages (from trio~=0.17->selenium) (3.3)\n",
      "Requirement already satisfied: attrs>=19.2.0 in c:\\programdata\\anaconda3\\lib\\site-packages (from trio~=0.17->selenium) (21.4.0)\n",
      "Requirement already satisfied: sortedcontainers in c:\\programdata\\anaconda3\\lib\\site-packages (from trio~=0.17->selenium) (2.4.0)\n",
      "Requirement already satisfied: cffi>=1.14 in c:\\programdata\\anaconda3\\lib\\site-packages (from trio~=0.17->selenium) (1.15.1)\n",
      "Collecting outcome\n",
      "  Downloading outcome-1.2.0-py2.py3-none-any.whl (9.7 kB)\n",
      "Collecting async-generator>=1.9\n",
      "  Downloading async_generator-1.10-py3-none-any.whl (18 kB)\n",
      "Collecting wsproto>=0.14\n",
      "  Downloading wsproto-1.2.0-py3-none-any.whl (24 kB)\n",
      "Requirement already satisfied: PySocks!=1.5.7,<2.0,>=1.5.6 in c:\\programdata\\anaconda3\\lib\\site-packages (from urllib3[socks]~=1.26->selenium) (1.7.1)\n",
      "Requirement already satisfied: pycparser in c:\\programdata\\anaconda3\\lib\\site-packages (from cffi>=1.14->trio~=0.17->selenium) (2.21)\n",
      "Collecting h11<1,>=0.9.0\n",
      "  Downloading h11-0.14.0-py3-none-any.whl (58 kB)\n",
      "     ---------------------------------------- 58.3/58.3 kB 3.0 MB/s eta 0:00:00\n",
      "Installing collected packages: outcome, h11, exceptiongroup, async-generator, wsproto, trio, trio-websocket, selenium\n",
      "Successfully installed async-generator-1.10 exceptiongroup-1.0.4 h11-0.14.0 outcome-1.2.0 selenium-4.6.0 trio-0.22.0 trio-websocket-0.9.2 wsproto-1.2.0\n",
      "Note: you may need to restart the kernel to use updated packages.\n"
     ]
    }
   ],
   "source": [
    "# pip install selenium"
   ]
  },
  {
   "cell_type": "code",
   "execution_count": 1,
   "metadata": {
    "ExecuteTime": {
     "end_time": "2020-04-28T10:12:20.997627Z",
     "start_time": "2020-04-28T10:12:20.096598Z"
    }
   },
   "outputs": [],
   "source": [
    "\n",
    "import pandas as pd\n",
    "import numpy as np\n",
    "from selenium import webdriver\n",
    "import requests\n",
    "import bs4\n",
    "from bs4 import BeautifulSoup\n",
    "import time"
   ]
  },
  {
   "cell_type": "code",
   "execution_count": null,
   "metadata": {},
   "outputs": [],
   "source": []
  },
  {
   "cell_type": "code",
   "execution_count": 5,
   "metadata": {
    "ExecuteTime": {
     "end_time": "2020-04-28T10:16:58.933495Z",
     "start_time": "2020-04-28T10:13:55.952241Z"
    }
   },
   "outputs": [
    {
     "name": "stdout",
     "output_type": "stream",
     "text": [
      "(15769, 7)\n"
     ]
    }
   ],
   "source": [
    "qualifying_results = pd.DataFrame()\n",
    "for year in list(range(1983,2023)):\n",
    "    url = 'https://www.formula1.com/en/results.html/{}/races.html'\n",
    "    r = requests.get(url.format(year))\n",
    "    soup = BeautifulSoup(r.text, 'html.parser')\n",
    "    \n",
    "    year_links = []\n",
    "    for page in soup.find_all('a', attrs = {'class':\"resultsarchive-filter-item-link FilterTrigger\"}):\n",
    "        link = page.get('href')\n",
    "        if f'/en/results.html/{year}/races/' in link: \n",
    "            year_links.append(link)\n",
    "\n",
    "    year_df = pd.DataFrame()\n",
    "    new_url = 'https://www.formula1.com{}'\n",
    "    for n, link in list(enumerate(year_links)):\n",
    "        link = link.replace('race-result.html', 'starting-grid.html')\n",
    "        df = pd.read_html(new_url.format(link))\n",
    "        df = df[0]\n",
    "        df['season'] = year\n",
    "        df['round'] = n+1\n",
    "        for col in df:\n",
    "            if 'Unnamed' in col:\n",
    "                df.drop(col, axis = 1, inplace = True)\n",
    "\n",
    "        year_df = pd.concat([year_df, df])\n",
    "\n",
    "    qualifying_results = pd.concat([qualifying_results, year_df])\n",
    "    \n",
    "print(qualifying_results.shape)"
   ]
  },
  {
   "cell_type": "code",
   "execution_count": 6,
   "metadata": {
    "ExecuteTime": {
     "end_time": "2020-04-28T10:17:34.818603Z",
     "start_time": "2020-04-28T10:17:34.768456Z"
    }
   },
   "outputs": [
    {
     "data": {
      "text/html": [
       "<div>\n",
       "<style scoped>\n",
       "    .dataframe tbody tr th:only-of-type {\n",
       "        vertical-align: middle;\n",
       "    }\n",
       "\n",
       "    .dataframe tbody tr th {\n",
       "        vertical-align: top;\n",
       "    }\n",
       "\n",
       "    .dataframe thead th {\n",
       "        text-align: right;\n",
       "    }\n",
       "</style>\n",
       "<table border=\"1\" class=\"dataframe\">\n",
       "  <thead>\n",
       "    <tr style=\"text-align: right;\">\n",
       "      <th></th>\n",
       "      <th>Pos</th>\n",
       "      <th>No</th>\n",
       "      <th>Driver</th>\n",
       "      <th>Car</th>\n",
       "      <th>Time</th>\n",
       "      <th>season</th>\n",
       "      <th>round</th>\n",
       "    </tr>\n",
       "  </thead>\n",
       "  <tbody>\n",
       "    <tr>\n",
       "      <th>0</th>\n",
       "      <td>1</td>\n",
       "      <td>1</td>\n",
       "      <td>Keke  Rosberg  ROS</td>\n",
       "      <td>Williams Honda</td>\n",
       "      <td>1:34.526</td>\n",
       "      <td>1983</td>\n",
       "      <td>1</td>\n",
       "    </tr>\n",
       "    <tr>\n",
       "      <th>1</th>\n",
       "      <td>2</td>\n",
       "      <td>15</td>\n",
       "      <td>Alain  Prost  PRO</td>\n",
       "      <td>Renault</td>\n",
       "      <td>1:34.672</td>\n",
       "      <td>1983</td>\n",
       "      <td>1</td>\n",
       "    </tr>\n",
       "    <tr>\n",
       "      <th>2</th>\n",
       "      <td>3</td>\n",
       "      <td>27</td>\n",
       "      <td>Patrick  Tambay  TAM</td>\n",
       "      <td>Ferrari</td>\n",
       "      <td>1:34.758</td>\n",
       "      <td>1983</td>\n",
       "      <td>1</td>\n",
       "    </tr>\n",
       "    <tr>\n",
       "      <th>3</th>\n",
       "      <td>4</td>\n",
       "      <td>5</td>\n",
       "      <td>Nelson  Piquet  PIQ</td>\n",
       "      <td>Brabham BMW</td>\n",
       "      <td>1:35.114</td>\n",
       "      <td>1983</td>\n",
       "      <td>1</td>\n",
       "    </tr>\n",
       "    <tr>\n",
       "      <th>4</th>\n",
       "      <td>5</td>\n",
       "      <td>35</td>\n",
       "      <td>Derek  Warwick  WAR</td>\n",
       "      <td>Toleman Hart</td>\n",
       "      <td>1:35.206</td>\n",
       "      <td>1983</td>\n",
       "      <td>1</td>\n",
       "    </tr>\n",
       "  </tbody>\n",
       "</table>\n",
       "</div>"
      ],
      "text/plain": [
       "   Pos  No                Driver             Car      Time  season  round\n",
       "0    1   1    Keke  Rosberg  ROS  Williams Honda  1:34.526    1983      1\n",
       "1    2  15     Alain  Prost  PRO         Renault  1:34.672    1983      1\n",
       "2    3  27  Patrick  Tambay  TAM         Ferrari  1:34.758    1983      1\n",
       "3    4   5   Nelson  Piquet  PIQ     Brabham BMW  1:35.114    1983      1\n",
       "4    5  35   Derek  Warwick  WAR    Toleman Hart  1:35.206    1983      1"
      ]
     },
     "execution_count": 6,
     "metadata": {},
     "output_type": "execute_result"
    }
   ],
   "source": [
    "qualifying_results.head()"
   ]
  },
  {
   "cell_type": "code",
   "execution_count": 7,
   "metadata": {
    "ExecuteTime": {
     "end_time": "2020-04-28T10:17:39.321841Z",
     "start_time": "2020-04-28T10:17:39.305201Z"
    }
   },
   "outputs": [
    {
     "data": {
      "text/html": [
       "<div>\n",
       "<style scoped>\n",
       "    .dataframe tbody tr th:only-of-type {\n",
       "        vertical-align: middle;\n",
       "    }\n",
       "\n",
       "    .dataframe tbody tr th {\n",
       "        vertical-align: top;\n",
       "    }\n",
       "\n",
       "    .dataframe thead th {\n",
       "        text-align: right;\n",
       "    }\n",
       "</style>\n",
       "<table border=\"1\" class=\"dataframe\">\n",
       "  <thead>\n",
       "    <tr style=\"text-align: right;\">\n",
       "      <th></th>\n",
       "      <th>Pos</th>\n",
       "      <th>No</th>\n",
       "      <th>Driver</th>\n",
       "      <th>Car</th>\n",
       "      <th>Time</th>\n",
       "      <th>season</th>\n",
       "      <th>round</th>\n",
       "    </tr>\n",
       "  </thead>\n",
       "  <tbody>\n",
       "    <tr>\n",
       "      <th>15</th>\n",
       "      <td>16</td>\n",
       "      <td>20</td>\n",
       "      <td>Kevin  Magnussen  MAG</td>\n",
       "      <td>Haas Ferrari</td>\n",
       "      <td>1:25.834</td>\n",
       "      <td>2022</td>\n",
       "      <td>22</td>\n",
       "    </tr>\n",
       "    <tr>\n",
       "      <th>16</th>\n",
       "      <td>17</td>\n",
       "      <td>10</td>\n",
       "      <td>Pierre  Gasly  GAS</td>\n",
       "      <td>AlphaTauri RBPT</td>\n",
       "      <td>1:25.859</td>\n",
       "      <td>2022</td>\n",
       "      <td>22</td>\n",
       "    </tr>\n",
       "    <tr>\n",
       "      <th>17</th>\n",
       "      <td>18</td>\n",
       "      <td>77</td>\n",
       "      <td>Valtteri  Bottas  BOT</td>\n",
       "      <td>Alfa Romeo Ferrari</td>\n",
       "      <td>1:25.892</td>\n",
       "      <td>2022</td>\n",
       "      <td>22</td>\n",
       "    </tr>\n",
       "    <tr>\n",
       "      <th>18</th>\n",
       "      <td>19</td>\n",
       "      <td>23</td>\n",
       "      <td>Alexander  Albon  ALB</td>\n",
       "      <td>Williams Mercedes</td>\n",
       "      <td>1:26.028</td>\n",
       "      <td>2022</td>\n",
       "      <td>22</td>\n",
       "    </tr>\n",
       "    <tr>\n",
       "      <th>19</th>\n",
       "      <td>20</td>\n",
       "      <td>6</td>\n",
       "      <td>Nicholas  Latifi  LAT</td>\n",
       "      <td>Williams Mercedes</td>\n",
       "      <td>1:26.054</td>\n",
       "      <td>2022</td>\n",
       "      <td>22</td>\n",
       "    </tr>\n",
       "  </tbody>\n",
       "</table>\n",
       "</div>"
      ],
      "text/plain": [
       "    Pos  No                 Driver                 Car      Time  season  \\\n",
       "15   16  20  Kevin  Magnussen  MAG        Haas Ferrari  1:25.834    2022   \n",
       "16   17  10     Pierre  Gasly  GAS     AlphaTauri RBPT  1:25.859    2022   \n",
       "17   18  77  Valtteri  Bottas  BOT  Alfa Romeo Ferrari  1:25.892    2022   \n",
       "18   19  23  Alexander  Albon  ALB   Williams Mercedes  1:26.028    2022   \n",
       "19   20   6  Nicholas  Latifi  LAT   Williams Mercedes  1:26.054    2022   \n",
       "\n",
       "    round  \n",
       "15     22  \n",
       "16     22  \n",
       "17     22  \n",
       "18     22  \n",
       "19     22  "
      ]
     },
     "execution_count": 7,
     "metadata": {},
     "output_type": "execute_result"
    }
   ],
   "source": [
    "qualifying_results.tail()"
   ]
  },
  {
   "cell_type": "code",
   "execution_count": 8,
   "metadata": {
    "ExecuteTime": {
     "end_time": "2020-04-28T13:10:12.516357Z",
     "start_time": "2020-04-28T13:10:12.491324Z"
    }
   },
   "outputs": [],
   "source": [
    "qualifying_results.rename(columns = {'Pos': 'grid_position', 'Driver': 'driver_name', 'Car': 'car',\n",
    "                                     'Time': 'qualifying_time'}, inplace = True)"
   ]
  },
  {
   "cell_type": "code",
   "execution_count": 9,
   "metadata": {
    "ExecuteTime": {
     "end_time": "2020-04-28T13:12:18.447615Z",
     "start_time": "2020-04-28T13:12:18.437390Z"
    }
   },
   "outputs": [],
   "source": [
    "qualifying_results.drop('No', axis = 1, inplace = True)"
   ]
  },
  {
   "cell_type": "code",
   "execution_count": 10,
   "metadata": {
    "ExecuteTime": {
     "end_time": "2020-04-28T13:20:44.582315Z",
     "start_time": "2020-04-28T13:20:44.455788Z"
    }
   },
   "outputs": [],
   "source": [
    "qualifying_results.to_csv('qualifying.csv', index = False)"
   ]
  },
  {
   "cell_type": "code",
   "execution_count": null,
   "metadata": {},
   "outputs": [],
   "source": []
  }
 ],
 "metadata": {
  "kernelspec": {
   "display_name": "Python 3 (ipykernel)",
   "language": "python",
   "name": "python3"
  },
  "language_info": {
   "codemirror_mode": {
    "name": "ipython",
    "version": 3
   },
   "file_extension": ".py",
   "mimetype": "text/x-python",
   "name": "python",
   "nbconvert_exporter": "python",
   "pygments_lexer": "ipython3",
   "version": "3.9.13"
  },
  "varInspector": {
   "cols": {
    "lenName": 16,
    "lenType": 16,
    "lenVar": 40
   },
   "kernels_config": {
    "python": {
     "delete_cmd_postfix": "",
     "delete_cmd_prefix": "del ",
     "library": "var_list.py",
     "varRefreshCmd": "print(var_dic_list())"
    },
    "r": {
     "delete_cmd_postfix": ") ",
     "delete_cmd_prefix": "rm(",
     "library": "var_list.r",
     "varRefreshCmd": "cat(var_dic_list()) "
    }
   },
   "types_to_exclude": [
    "module",
    "function",
    "builtin_function_or_method",
    "instance",
    "_Feature"
   ],
   "window_display": false
  }
 },
 "nbformat": 4,
 "nbformat_minor": 4
}
